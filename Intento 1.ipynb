{
 "cells": [
  {
   "cell_type": "code",
   "execution_count": 46,
   "metadata": {
    "scrolled": true
   },
   "outputs": [
    {
     "name": "stdout",
     "output_type": "stream",
     "text": [
      "0.019516486582689254\n",
      "El valor de la Energia evaluada en d es:  6.579416707118553\n",
      "La nueva aproximación de d sería:  0.02019204707502491\n",
      "El valor del error es:  0.011209758974595321\n",
      "El valor de la Energia evaluada en d es:  6.505663031638329\n",
      "La nueva aproximación de d sería:  0.02018408118345116\n",
      "El valor del error es:  0.00013256590203893458\n",
      "El valor de la Energia evaluada en d es:  6.506525460726479\n",
      "La nueva aproximación de d sería:  0.02018417427710648\n",
      "El valor del error es:  1.5491826576858337e-06\n",
      "El valor de la Energia evaluada en d es:  6.5065153809300735\n",
      "La nueva aproximación de d sería:  0.020184173189050057\n",
      "El valor del error es:  1.8106484361641265e-08\n"
     ]
    },
    {
     "data": {
      "text/plain": [
       "0.020184173189050057"
      ]
     },
     "execution_count": 46,
     "metadata": {},
     "output_type": "execute_result"
    }
   ],
   "source": [
    "'''\n",
    "import numpy as np\n",
    "n = 1\n",
    "c = 3*10**(8)\n",
    "h = 197.3/c\n",
    "L = 0.2\n",
    "U = 100 \n",
    "m = 511*10**(3)/(c**2)\n",
    "lista_E = []\n",
    "di = h/(2*m*(U))**1/2\n",
    "Ei = (n**2)*(h**2)*((np.pi)**2)/(2*m*((L + 2*d)**2))\n",
    "\n",
    "def calcular_aux(E, d, error):\n",
    "    if error < 0.01:\n",
    "        return E\n",
    "    else:\n",
    "        aproxE = (n**2)*(h**2)*((np.pi)**2)/(2*m*((L + 2*d)**2))\n",
    "        aproxd = h/(2*m*(U-aproxE))**1/2\n",
    "        error = abs(aproxE-E)/aproxE\n",
    "        return calcular_aux(aproxE, error)\n",
    "\n",
    "def calcular(E):\n",
    "    return calcular_aux(Ei, di, 100)\n",
    "\n",
    "calcular()\n",
    "\n",
    "\n",
    "import numpy as np\n",
    "n = 1\n",
    "c = 3*10**(8)\n",
    "h = 197.3/c\n",
    "L = 0.2\n",
    "U = 100 \n",
    "m = 511*10**(3)/(c**2)\n",
    "'''\n",
    "\n",
    "import numpy as np\n",
    "n = 1\n",
    "#c = 3*10**(8)\n",
    "h = 197.3\n",
    "L = 0.200\n",
    "U = 100 \n",
    "m = 511*10**(3)\n",
    "#Ei=0\n",
    "\n",
    "def fun(x):\n",
    "    return ((n**2)*(h**2)*((np.pi)**2))/(2*m*((L + (2*x))**2))\n",
    "\n",
    "def calcular_aux(d, error):\n",
    "    if error < 0.0000001:\n",
    "        return d\n",
    "    else:\n",
    "        func=fun(d)\n",
    "        print(\"El valor de la Energia evaluada en d es: \", func)\n",
    "        \n",
    "        #se utiliza la fórmula para hayar la aproximacion \n",
    "        aprox = h/((2*m*(U-func))**(1/2))\n",
    "        print(\"La nueva aproximación de d sería: \", aprox)\n",
    "        \n",
    "        #definimos un error relativo normalizado\n",
    "        error= abs(func-fun(aprox))/func\n",
    "        print(\"El valor del error es: \", error)\n",
    "        return calcular_aux(aprox, error)\n",
    "\n",
    "def calcular(d = h/((2*m*U)**(1/2))):\n",
    "    print(d)\n",
    "    return calcular_aux(d, 100)\n",
    "\n",
    "calcular()\n"
   ]
  },
  {
   "cell_type": "code",
   "execution_count": null,
   "metadata": {},
   "outputs": [],
   "source": []
  },
  {
   "cell_type": "code",
   "execution_count": null,
   "metadata": {},
   "outputs": [],
   "source": []
  }
 ],
 "metadata": {
  "kernelspec": {
   "display_name": "Python 3",
   "language": "python",
   "name": "python3"
  },
  "language_info": {
   "codemirror_mode": {
    "name": "ipython",
    "version": 3
   },
   "file_extension": ".py",
   "mimetype": "text/x-python",
   "name": "python",
   "nbconvert_exporter": "python",
   "pygments_lexer": "ipython3",
   "version": "3.8.5"
  }
 },
 "nbformat": 4,
 "nbformat_minor": 4
}
